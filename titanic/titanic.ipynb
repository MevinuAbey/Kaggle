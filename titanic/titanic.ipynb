{
  "nbformat": 4,
  "nbformat_minor": 0,
  "metadata": {
    "colab": {
      "provenance": [],
      "collapsed_sections": [
        "_rM4ICibFv48"
      ],
      "authorship_tag": "ABX9TyOZJs8IB9ekleK++4qJpvcb",
      "include_colab_link": true
    },
    "kernelspec": {
      "name": "python3",
      "display_name": "Python 3"
    },
    "language_info": {
      "name": "python"
    }
  },
  "cells": [
    {
      "cell_type": "markdown",
      "metadata": {
        "id": "view-in-github",
        "colab_type": "text"
      },
      "source": [
        "<a href=\"https://colab.research.google.com/github/MevinuAbey/Kaggle/blob/main/titanic/titanic.ipynb\" target=\"_parent\"><img src=\"https://colab.research.google.com/assets/colab-badge.svg\" alt=\"Open In Colab\"/></a>"
      ]
    },
    {
      "cell_type": "markdown",
      "source": [
        "# **Kaggle Titanc ML Competition Model**\n",
        "*by Mevinu*\n",
        "\n",
        "\n",
        "---\n",
        "\n"
      ],
      "metadata": {
        "id": "TsnBz37d-ybF"
      }
    },
    {
      "cell_type": "markdown",
      "source": [
        "# THE PLAN\n",
        "\n",
        "\n",
        "1.   Import Dataset from github -> view data\n",
        "2.   data cleaning\n",
        "3.   data preprocessing\n",
        "4.   split taing data into two parts\n",
        "5.   create the model\n",
        "6.   train\n",
        "7.   make the predection\n",
        "\n"
      ],
      "metadata": {
        "id": "_rM4ICibFv48"
      }
    },
    {
      "cell_type": "markdown",
      "source": [
        "Import Libs"
      ],
      "metadata": {
        "id": "mIeZvQLrEOXr"
      }
    },
    {
      "cell_type": "code",
      "execution_count": 1,
      "metadata": {
        "id": "_sSEAmG56j4P"
      },
      "outputs": [],
      "source": [
        "import pandas as pd"
      ]
    },
    {
      "cell_type": "markdown",
      "source": [
        "Import Dataset From Github"
      ],
      "metadata": {
        "id": "B3RTm1NgEFoU"
      }
    },
    {
      "cell_type": "code",
      "source": [
        "train_data_url = \"https://raw.githubusercontent.com/MevinuAbey/Kaggle/refs/heads/main/titanic/titanic_data/train.csv\"\n",
        "df1 = pd.read_csv(train_data_url)\n",
        "\n",
        "test_data_url = \"https://raw.githubusercontent.com/MevinuAbey/Kaggle/refs/heads/main/titanic/titanic_data/test.csv\"\n",
        "df2 = pd.read_csv(test_data_url)"
      ],
      "metadata": {
        "id": "2GznnVOTELJ7"
      },
      "execution_count": 4,
      "outputs": []
    },
    {
      "cell_type": "code",
      "source": [],
      "metadata": {
        "id": "yubHiXtnEP6z"
      },
      "execution_count": null,
      "outputs": []
    }
  ]
}
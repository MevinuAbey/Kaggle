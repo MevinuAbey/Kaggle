{
  "nbformat": 4,
  "nbformat_minor": 0,
  "metadata": {
    "colab": {
      "provenance": [],
      "authorship_tag": "ABX9TyNVmXd7zgx2dDytw44GtzWZ",
      "include_colab_link": true
    },
    "kernelspec": {
      "name": "python3",
      "display_name": "Python 3"
    },
    "language_info": {
      "name": "python"
    }
  },
  "cells": [
    {
      "cell_type": "markdown",
      "metadata": {
        "id": "view-in-github",
        "colab_type": "text"
      },
      "source": [
        "<a href=\"https://colab.research.google.com/github/MevinuAbey/Kaggle/blob/main/titanic/titanic.ipynb\" target=\"_parent\"><img src=\"https://colab.research.google.com/assets/colab-badge.svg\" alt=\"Open In Colab\"/></a>"
      ]
    },
    {
      "cell_type": "markdown",
      "source": [
        "# **Kaggle Titanc ML Competition Model**\n",
        "*by Mevinu*"
      ],
      "metadata": {
        "id": "TsnBz37d-ybF"
      }
    },
    {
      "cell_type": "markdown",
      "source": [
        "Import Libs"
      ],
      "metadata": {
        "id": "mIeZvQLrEOXr"
      }
    },
    {
      "cell_type": "code",
      "execution_count": null,
      "metadata": {
        "id": "_sSEAmG56j4P"
      },
      "outputs": [],
      "source": [
        "import pandas as pd"
      ]
    },
    {
      "cell_type": "markdown",
      "source": [
        "Import Dataset From Github"
      ],
      "metadata": {
        "id": "B3RTm1NgEFoU"
      }
    },
    {
      "cell_type": "code",
      "source": [
        "df1 = pd.read_csv(https://raw.githubusercontent.com/MevinuAbey/Kaggle/refs/heads/main/titanic/titanic_data/train.csv)"
      ],
      "metadata": {
        "id": "2GznnVOTELJ7"
      },
      "execution_count": null,
      "outputs": []
    },
    {
      "cell_type": "code",
      "source": [],
      "metadata": {
        "id": "yubHiXtnEP6z"
      },
      "execution_count": null,
      "outputs": []
    }
  ]
}